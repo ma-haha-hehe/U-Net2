{
  "nbformat": 4,
  "nbformat_minor": 0,
  "metadata": {
    "colab": {
      "provenance": []
    },
    "kernelspec": {
      "name": "python3",
      "display_name": "Python 3"
    },
    "language_info": {
      "name": "python"
    }
  },
  "cells": [
    {
      "cell_type": "code",
      "execution_count": 3,
      "metadata": {
        "id": "UZF5wOwLd8_E"
      },
      "outputs": [],
      "source": [
        "import os\n",
        "from torchvision import transforms\n",
        "import torch\n",
        "from torch import nn\n",
        "from torch import optim\n",
        "from torch.utils.data import DataLoader, Dataset\n",
        "from glob import glob\n",
        "from matplotlib import pyplot as plt\n",
        "import numpy as np\n",
        "import cv2\n",
        "import random\n",
        "\n",
        "device = 'cuda' if torch.cuda.is_available() else 'cpu'"
      ]
    },
    {
      "cell_type": "code",
      "source": [
        "tfms = transforms.Compose([\n",
        "    transforms.ToTensor(),\n",
        "    transforms.Normalize([0.485,0.456,0.406],[0.229,0.224,0.225])\n",
        "])\n",
        "normalize = transforms.Normalize(mean=[0.485,0.456,0.406],std=[0.229,0.224,0.225])\n",
        "denormalize = transforms.Normalize(\n",
        "    mean=[-0.485/0.229, -0.456/0.224, -0.406/0.225],\n",
        "    std=[1/0.229, 1/0.224, 1/0.255]\n",
        ")\n",
        "#预处理函数 preprocess image\n",
        "def preprocess_image(img):\n",
        "    img = torch.tensor(img).permute(2,0,1)[None].float\n",
        "    img = normalize(img)\n",
        "    return img.to(device)\n",
        "#数据读取路径 read path\n",
        "def stems(split):\n",
        "    # split 是 'train' 或 'test'\n",
        "    img_dir = f\"D:/wenbo/dataset1/dataset1/images_prepped_{split}/\"\n",
        "    # 找到所有图片文件\n",
        "    items = glob.glob(os.path.join(img_dir, \"*.png\"))\n",
        "    # 只取文件名，不要路径和扩展名\n",
        "    stems = [os.path.splitext(os.path.basename(p))[0] for p in items]\n",
        "    return stems\n",
        "#目标： 把原来 2D 的 img (224×224) 变成 seg_labels (224×224×n_classes)\n",
        "def get_segmentation_arr(img, n_classes):\n",
        "    seg_labels = np.zeros((224, 224, n_classes))\n",
        "    for c in range(n_classes):\n",
        "        seg_labels[:, :, c] = (img == c).astype(int)\n",
        "    return seg_labels\n"
      ],
      "metadata": {
        "id": "-hYjETgMf_xF"
      },
      "execution_count": 4,
      "outputs": []
    },
    {
      "cell_type": "code",
      "source": [
        "class SegData(Dataset):\n",
        "    def __init__(self, split):\n",
        "        self.items = stems(split)\n",
        "        # print(self.items)\n",
        "        self.split = split\n",
        "    def __len__(self):\n",
        "        return len(self.items)\n",
        "    def __getitem__(self, ix):\n",
        "        image = cv2.imread(f'dataset1/images_prepped_{self.split}/{self.items[ix]}.jpg')\n",
        "        image = cv2.resize(image, (224,224))\n",
        "        mask  = cv2.imread(f'dataset1/annotations_prepped_{self.split}/{self.items[ix]}.png')\n",
        "        mask  = cv2.resize(mask, (224,224))\n",
        "        return image, mask\n",
        "    def choose(self):#随机选一张图和标签\n",
        "        return self[random.randint(len(self))]\n",
        "    def collate_fn(self, batch):#拼接加预处理\n",
        "        ims, ce_masks = [], []\n",
        "        for item in batch:\n",
        "            img, mask = item\n",
        "            img = preprocess_image(img)\n",
        "            ims.append(img)\n",
        "            ce_masks.append(torch.tensor(mask)[None].long())\n",
        "        images = torch.cat(ims).to(device)\n",
        "        ce_masks = torch.cat(ce_masks).to(device)\n",
        "        return images, ce_masks\n"
      ],
      "metadata": {
        "id": "V6l072GiRpUs"
      },
      "execution_count": 5,
      "outputs": []
    },
    {
      "cell_type": "code",
      "source": [
        "#定义训练集和验证数据集 数据加载器\n",
        "trn_ds = SegData('train')\n",
        "val_ds = SegData('val')\n",
        "trn_dl = DataLoader(trn_ds, batch_size=4, shuffle=True, collate_fn=trn_ds.collate_fn)\n",
        "val_dl = DataLoader(val_ds, batch_size=1, shuffle=True, collate_fn=val_ds.collate_fn)"
      ],
      "metadata": {
        "colab": {
          "base_uri": "https://localhost:8080/",
          "height": 391
        },
        "id": "9NJ0d0P1as_m",
        "outputId": "9355777d-cf6f-45c3-eee6-6e7232cc0c82"
      },
      "execution_count": 6,
      "outputs": [
        {
          "output_type": "error",
          "ename": "AttributeError",
          "evalue": "'function' object has no attribute 'glob'",
          "traceback": [
            "\u001b[0;31m---------------------------------------------------------------------------\u001b[0m",
            "\u001b[0;31mAttributeError\u001b[0m                            Traceback (most recent call last)",
            "\u001b[0;32m/tmp/ipython-input-3827404271.py\u001b[0m in \u001b[0;36m<cell line: 0>\u001b[0;34m()\u001b[0m\n\u001b[1;32m      1\u001b[0m \u001b[0;31m#定义训练集和验证数据集 数据加载器\u001b[0m\u001b[0;34m\u001b[0m\u001b[0;34m\u001b[0m\u001b[0m\n\u001b[0;32m----> 2\u001b[0;31m \u001b[0mtrn_ds\u001b[0m \u001b[0;34m=\u001b[0m \u001b[0mSegData\u001b[0m\u001b[0;34m(\u001b[0m\u001b[0;34m'train'\u001b[0m\u001b[0;34m)\u001b[0m\u001b[0;34m\u001b[0m\u001b[0;34m\u001b[0m\u001b[0m\n\u001b[0m\u001b[1;32m      3\u001b[0m \u001b[0mval_ds\u001b[0m \u001b[0;34m=\u001b[0m \u001b[0mSegData\u001b[0m\u001b[0;34m(\u001b[0m\u001b[0;34m'val'\u001b[0m\u001b[0;34m)\u001b[0m\u001b[0;34m\u001b[0m\u001b[0;34m\u001b[0m\u001b[0m\n\u001b[1;32m      4\u001b[0m \u001b[0mtrn_dl\u001b[0m \u001b[0;34m=\u001b[0m \u001b[0mDataLoader\u001b[0m\u001b[0;34m(\u001b[0m\u001b[0mtrn_ds\u001b[0m\u001b[0;34m,\u001b[0m \u001b[0mbatch_size\u001b[0m\u001b[0;34m=\u001b[0m\u001b[0;36m4\u001b[0m\u001b[0;34m,\u001b[0m \u001b[0mshuffle\u001b[0m\u001b[0;34m=\u001b[0m\u001b[0;32mTrue\u001b[0m\u001b[0;34m,\u001b[0m \u001b[0mcollate_fn\u001b[0m\u001b[0;34m=\u001b[0m\u001b[0mtrn_ds\u001b[0m\u001b[0;34m.\u001b[0m\u001b[0mcollate_fn\u001b[0m\u001b[0;34m)\u001b[0m\u001b[0;34m\u001b[0m\u001b[0;34m\u001b[0m\u001b[0m\n\u001b[1;32m      5\u001b[0m \u001b[0mval_dl\u001b[0m \u001b[0;34m=\u001b[0m \u001b[0mDataLoader\u001b[0m\u001b[0;34m(\u001b[0m\u001b[0mval_ds\u001b[0m\u001b[0;34m,\u001b[0m \u001b[0mbatch_size\u001b[0m\u001b[0;34m=\u001b[0m\u001b[0;36m1\u001b[0m\u001b[0;34m,\u001b[0m \u001b[0mshuffle\u001b[0m\u001b[0;34m=\u001b[0m\u001b[0;32mTrue\u001b[0m\u001b[0;34m,\u001b[0m \u001b[0mcollate_fn\u001b[0m\u001b[0;34m=\u001b[0m\u001b[0mval_ds\u001b[0m\u001b[0;34m.\u001b[0m\u001b[0mcollate_fn\u001b[0m\u001b[0;34m)\u001b[0m\u001b[0;34m\u001b[0m\u001b[0;34m\u001b[0m\u001b[0m\n",
            "\u001b[0;32m/tmp/ipython-input-1907858398.py\u001b[0m in \u001b[0;36m__init__\u001b[0;34m(self, split)\u001b[0m\n\u001b[1;32m      1\u001b[0m \u001b[0;32mclass\u001b[0m \u001b[0mSegData\u001b[0m\u001b[0;34m(\u001b[0m\u001b[0mDataset\u001b[0m\u001b[0;34m)\u001b[0m\u001b[0;34m:\u001b[0m\u001b[0;34m\u001b[0m\u001b[0;34m\u001b[0m\u001b[0m\n\u001b[1;32m      2\u001b[0m     \u001b[0;32mdef\u001b[0m \u001b[0m__init__\u001b[0m\u001b[0;34m(\u001b[0m\u001b[0mself\u001b[0m\u001b[0;34m,\u001b[0m \u001b[0msplit\u001b[0m\u001b[0;34m)\u001b[0m\u001b[0;34m:\u001b[0m\u001b[0;34m\u001b[0m\u001b[0;34m\u001b[0m\u001b[0m\n\u001b[0;32m----> 3\u001b[0;31m         \u001b[0mself\u001b[0m\u001b[0;34m.\u001b[0m\u001b[0mitems\u001b[0m \u001b[0;34m=\u001b[0m \u001b[0mstems\u001b[0m\u001b[0;34m(\u001b[0m\u001b[0msplit\u001b[0m\u001b[0;34m)\u001b[0m\u001b[0;34m\u001b[0m\u001b[0;34m\u001b[0m\u001b[0m\n\u001b[0m\u001b[1;32m      4\u001b[0m         \u001b[0;31m# print(self.items)\u001b[0m\u001b[0;34m\u001b[0m\u001b[0;34m\u001b[0m\u001b[0m\n\u001b[1;32m      5\u001b[0m         \u001b[0mself\u001b[0m\u001b[0;34m.\u001b[0m\u001b[0msplit\u001b[0m \u001b[0;34m=\u001b[0m \u001b[0msplit\u001b[0m\u001b[0;34m\u001b[0m\u001b[0;34m\u001b[0m\u001b[0m\n",
            "\u001b[0;32m/tmp/ipython-input-1177777246.py\u001b[0m in \u001b[0;36mstems\u001b[0;34m(split)\u001b[0m\n\u001b[1;32m     18\u001b[0m     \u001b[0mimg_dir\u001b[0m \u001b[0;34m=\u001b[0m \u001b[0;34mf\"D:/wenbo/dataset1/dataset1/images_prepped_{split}/\"\u001b[0m\u001b[0;34m\u001b[0m\u001b[0;34m\u001b[0m\u001b[0m\n\u001b[1;32m     19\u001b[0m     \u001b[0;31m# 找到所有图片文件\u001b[0m\u001b[0;34m\u001b[0m\u001b[0;34m\u001b[0m\u001b[0m\n\u001b[0;32m---> 20\u001b[0;31m     \u001b[0mitems\u001b[0m \u001b[0;34m=\u001b[0m \u001b[0mglob\u001b[0m\u001b[0;34m.\u001b[0m\u001b[0mglob\u001b[0m\u001b[0;34m(\u001b[0m\u001b[0mos\u001b[0m\u001b[0;34m.\u001b[0m\u001b[0mpath\u001b[0m\u001b[0;34m.\u001b[0m\u001b[0mjoin\u001b[0m\u001b[0;34m(\u001b[0m\u001b[0mimg_dir\u001b[0m\u001b[0;34m,\u001b[0m \u001b[0;34m\"*.png\"\u001b[0m\u001b[0;34m)\u001b[0m\u001b[0;34m)\u001b[0m\u001b[0;34m\u001b[0m\u001b[0;34m\u001b[0m\u001b[0m\n\u001b[0m\u001b[1;32m     21\u001b[0m     \u001b[0;31m# 只取文件名，不要路径和扩展名\u001b[0m\u001b[0;34m\u001b[0m\u001b[0;34m\u001b[0m\u001b[0m\n\u001b[1;32m     22\u001b[0m     \u001b[0mstems\u001b[0m \u001b[0;34m=\u001b[0m \u001b[0;34m[\u001b[0m\u001b[0mos\u001b[0m\u001b[0;34m.\u001b[0m\u001b[0mpath\u001b[0m\u001b[0;34m.\u001b[0m\u001b[0msplitext\u001b[0m\u001b[0;34m(\u001b[0m\u001b[0mos\u001b[0m\u001b[0;34m.\u001b[0m\u001b[0mpath\u001b[0m\u001b[0;34m.\u001b[0m\u001b[0mbasename\u001b[0m\u001b[0;34m(\u001b[0m\u001b[0mp\u001b[0m\u001b[0;34m)\u001b[0m\u001b[0;34m)\u001b[0m\u001b[0;34m[\u001b[0m\u001b[0;36m0\u001b[0m\u001b[0;34m]\u001b[0m \u001b[0;32mfor\u001b[0m \u001b[0mp\u001b[0m \u001b[0;32min\u001b[0m \u001b[0mitems\u001b[0m\u001b[0;34m]\u001b[0m\u001b[0;34m\u001b[0m\u001b[0;34m\u001b[0m\u001b[0m\n",
            "\u001b[0;31mAttributeError\u001b[0m: 'function' object has no attribute 'glob'"
          ]
        }
      ]
    },
    {
      "cell_type": "code",
      "source": [
        "#定义卷积构建块\n",
        "def conv(in_channels, out_channels):\n",
        "    return nn.Sequential(\n",
        "        nn.Conv2d(in_channels, out_channels,kernel_size=3,stride=1,padding=1),\n",
        "        nn.BatchNorm2d(out_channels),\n",
        "        nn.ReLU(inplace=True),\n",
        "    )\n",
        "def up_conv(in_channels, out_channels):\n",
        "    return nn.Sequential(\n",
        "        nn.Upsample(scale_factor=2, mode='bilinear', align_corners=True),\n",
        "        nn.Conv2d(in_channels, out_channels, kernel_size=3, stride=1, padding=1),\n",
        "        nn.BatchNorm2d(out_channels),\n",
        "        nn.ReLU(inplace=True)\n",
        "    )"
      ],
      "metadata": {
        "id": "CPQMEG1PfdHc"
      },
      "execution_count": 12,
      "outputs": []
    },
    {
      "cell_type": "code",
      "source": [
        "from torchvision.models import vgg16_bn\n",
        "class UNet(nn.Module):\n",
        "    def __init__(self, pretrained=True, out_channels=12):\n",
        "        super().__init__()\n",
        "        self.encoder = vgg16_bn(pretrained=pretrained).features\n",
        "\n",
        "        self.block1 = nn.Sequential(*self.encoder[:6])\n",
        "        self.block2 = nn.Sequential(*self.encoder[6:13])\n",
        "        self.block3 = nn.Sequential(*self.encoder[13:20])\n",
        "        self.block4 = nn.Sequential(*self.encoder[20:27])\n",
        "        self.block5 = nn.Sequential(*self.encoder[27:34])\n",
        "        #decoder\n",
        "        self.up_conv6 = up_conv(1024, 512)\n",
        "        self.conv6 = conv(512 + 512, 512)\n",
        "        self.up_conv7 = up_conv(512, 256)\n",
        "        self.conv7 = conv(256 + 512, 256)\n",
        "        self.up_conv8 = up_conv(256, 128)\n",
        "        self.conv8 = conv(128 + 256, 128)\n",
        "        self.up_conv9 = up_conv(128, 64)\n",
        "        self.conv9 = conv(64 + 128, 64)\n",
        "        self.up_conv10 = up_conv(64, 32)\n",
        "        self.conv10 = conv(32 + 64, 32)\n",
        "        self.conv11 = nn.Conv2d(32, out_channels, kernel_size=1)"
      ],
      "metadata": {
        "id": "RZtP1KTOi2_a"
      },
      "execution_count": 13,
      "outputs": []
    },
    {
      "cell_type": "code",
      "source": [
        "#前向传播\n",
        "def forward(self, x):\n",
        "    block1 = self.block1(x)\n",
        "    block2 = self.block2(block1)\n",
        "    block3 = self.block3(block2)\n",
        "    block4 = self.block4(block3)\n",
        "    block5 = self.block5(block4)\n",
        "\n",
        "    bottleneck = self.bottleneck(block5)\n",
        "    x = self.conv_bottleneck(bottleneck)\n",
        "\n",
        "    x = self.up_conv6(x)\n",
        "    x = torch.cat([x, block5], dim=1)\n",
        "    x = self.conv6(x)\n",
        "\n",
        "    x = self.up_conv7(x)\n",
        "    x = torch.cat([x, block4], dim=1)\n",
        "    x = self.conv7(x)\n",
        "\n",
        "    x = self.up_conv8(x)\n",
        "    x = torch.cat([x, block3], dim=1)\n",
        "    x = self.conv8(x)\n",
        "\n",
        "    x = self.up_conv9(x)\n",
        "    x = torch.cat([x, block2], dim=1)\n",
        "    x = self.conv9(x)\n",
        "\n",
        "    x = self.up_conv10(x)\n",
        "    x = torch.cat([x, block1], dim=1)\n",
        "    x = self.conv10(x)\n",
        "\n",
        "    x = self.conv11(x)\n",
        "    return x\n"
      ],
      "metadata": {
        "id": "jHrF28JamySs"
      },
      "execution_count": 14,
      "outputs": []
    },
    {
      "cell_type": "code",
      "source": [
        "#定义函数UNetLoss计算损失和准确率值\n",
        "ce = nn.CrossEntropyLoss()\n",
        "\n",
        "def UNetLoss(preds, targets):\n",
        "    ce_loss = ce(preds, targets)\n",
        "    acc = (torch.max(preds, 1)[1] == targets).float().mean()\n",
        "    return ce_loss, acc\n",
        "def train_batch(model, data, optimizer, criterion):\n",
        "    model.train()                          # 打开训练模式（启用BN/Dropout等）\n",
        "    ims, ce_masks = data                   # 解包 dataloader 给的一批数据\n",
        "\n",
        "    _masks = model(ims)                    # 前向，得到 logits (B, C, H, W)\n",
        "    optimizer.zero_grad()                  # 清空历史梯度\n",
        "\n",
        "    loss, acc = criterion(_masks, ce_masks)# 计算交叉熵与像素准确率\n",
        "    loss.backward()                        # 反向传播\n",
        "    optimizer.step()                       # 更新参数（如 Adam/SGD）\n",
        "\n",
        "    return loss.item(), acc.item()\n",
        "@torch.no_grad()\n",
        "def validate_batch(model, data, criterion):\n",
        "    model.eval()                           # 评估模式（冻结BN/关闭Dropout）\n",
        "    ims, masks = data\n",
        "\n",
        "    _masks = model(ims)                    # 前向\n",
        "    loss, acc = criterion(_masks, masks)   # 只算指标，不反传\n",
        "    return loss.item(), acc.item()\n",
        "model = UNet().to(device)\n",
        "criterion = UNetLoss\n",
        "optimizer = optim.Adam(model.parameters(), lr=1e-3)\n",
        "n_epochs = 30\n"
      ],
      "metadata": {
        "id": "XaTpudTOmzGl"
      },
      "execution_count": 15,
      "outputs": []
    },
    {
      "cell_type": "code",
      "source": [
        "#训练模型\n",
        "train_loss_epochs = []\n",
        "val_loss_epochs = []\n",
        "for epoch in range(n_epochs):\n",
        "    N = len(trn_dl)\n",
        "    trn_loss = []\n",
        "    val_loss = []\n",
        "for ix, data in enumerate(trn_dl):\n",
        "    loss, acc = train_batch(model, data, optimizer, criterion)\n",
        "    pos = (epoch + (ix+1)/N)\n",
        "    trn_loss.append(loss)\n",
        "train_loss_epochs.append(np.average(trn_loss))\n",
        "N = len(val_dl)\n",
        "for bx, data in enumerate(val_dl):\n",
        "    loss, acc = validate_batch(model, data, criterion)\n",
        "    pos = (epoch + (ix+1)/N)\n",
        "    val_loss.append(loss)\n",
        "val_loss_epochs.append(np.average(val_loss))\n",
        "epochs = np.arange(n_epochs)+1\n",
        "plt.plot(epochs, train_loss_epochs, 'bo-', label='Training loss')\n",
        "plt.plot(epochs, val_loss_epochs, 'r-', label='Test loss')\n",
        "plt.title('Training and Test loss over increasing epochs')\n",
        "plt.xlabel('Epochs')\n",
        "plt.ylabel('Loss')\n",
        "plt.legend()\n",
        "plt.grid(False)\n",
        "plt.show()\n"
      ],
      "metadata": {
        "colab": {
          "base_uri": "https://localhost:8080/",
          "height": 211
        },
        "id": "6u_UOLP2uZ8d",
        "outputId": "d055d7d4-e103-4b02-ef6d-defb1c0b9803"
      },
      "execution_count": 16,
      "outputs": [
        {
          "output_type": "error",
          "ename": "NameError",
          "evalue": "name 'trn_dl' is not defined",
          "traceback": [
            "\u001b[0;31m---------------------------------------------------------------------------\u001b[0m",
            "\u001b[0;31mNameError\u001b[0m                                 Traceback (most recent call last)",
            "\u001b[0;32m/tmp/ipython-input-2791159119.py\u001b[0m in \u001b[0;36m<cell line: 0>\u001b[0;34m()\u001b[0m\n\u001b[1;32m      3\u001b[0m \u001b[0mval_loss_epochs\u001b[0m \u001b[0;34m=\u001b[0m \u001b[0;34m[\u001b[0m\u001b[0;34m]\u001b[0m\u001b[0;34m\u001b[0m\u001b[0;34m\u001b[0m\u001b[0m\n\u001b[1;32m      4\u001b[0m \u001b[0;32mfor\u001b[0m \u001b[0mepoch\u001b[0m \u001b[0;32min\u001b[0m \u001b[0mrange\u001b[0m\u001b[0;34m(\u001b[0m\u001b[0mn_epochs\u001b[0m\u001b[0;34m)\u001b[0m\u001b[0;34m:\u001b[0m\u001b[0;34m\u001b[0m\u001b[0;34m\u001b[0m\u001b[0m\n\u001b[0;32m----> 5\u001b[0;31m     \u001b[0mN\u001b[0m \u001b[0;34m=\u001b[0m \u001b[0mlen\u001b[0m\u001b[0;34m(\u001b[0m\u001b[0mtrn_dl\u001b[0m\u001b[0;34m)\u001b[0m\u001b[0;34m\u001b[0m\u001b[0;34m\u001b[0m\u001b[0m\n\u001b[0m\u001b[1;32m      6\u001b[0m     \u001b[0mtrn_loss\u001b[0m \u001b[0;34m=\u001b[0m \u001b[0;34m[\u001b[0m\u001b[0;34m]\u001b[0m\u001b[0;34m\u001b[0m\u001b[0;34m\u001b[0m\u001b[0m\n\u001b[1;32m      7\u001b[0m     \u001b[0mval_loss\u001b[0m \u001b[0;34m=\u001b[0m \u001b[0;34m[\u001b[0m\u001b[0;34m]\u001b[0m\u001b[0;34m\u001b[0m\u001b[0;34m\u001b[0m\u001b[0m\n",
            "\u001b[0;31mNameError\u001b[0m: name 'trn_dl' is not defined"
          ]
        }
      ]
    },
    {
      "cell_type": "code",
      "source": [
        "im,mask = next(iter(val_dl))\n",
        "_mask = model(im)\n",
        "_,_mask = torch.max(_mask,dim=1)"
      ],
      "metadata": {
        "id": "52E5d3wOvU3f"
      },
      "execution_count": null,
      "outputs": []
    },
    {
      "cell_type": "code",
      "source": [
        "\n"
      ],
      "metadata": {
        "id": "r89Qmeu2yLuG"
      },
      "execution_count": null,
      "outputs": []
    }
  ]
}